{
 "cells": [
  {
   "cell_type": "markdown",
   "metadata": {},
   "source": [
    "# How to Make Pretty Pictures"
   ]
  },
  {
   "cell_type": "markdown",
   "metadata": {},
   "source": [
    "The one thing this code does is load in an astronomical image in the FITS format, and make a pretty little human-friendly image that's zoomed in on a chosen central position (like the center of a planet). If you haven't installed it yet, you can do so by running\n",
    "```\n",
    "pip install the-friendly-planets\n",
    "```\n",
    "from the command line."
   ]
  },
  {
   "cell_type": "markdown",
   "metadata": {},
   "source": [
    "## Centering Images\n",
    "\n",
    "To create an image, just run the following two lines, and follow the instructions."
   ]
  },
  {
   "cell_type": "code",
   "execution_count": null,
   "metadata": {},
   "outputs": [],
   "source": [
    "from thefriendlyplanets import *"
   ]
  },
  {
   "cell_type": "code",
   "execution_count": null,
   "metadata": {
    "scrolled": false
   },
   "outputs": [],
   "source": [
    "i = make_friendly_image('uranus-test-image.fit')"
   ]
  },
  {
   "cell_type": "markdown",
   "metadata": {},
   "source": [
    "These python plots have built-in zoom features to them. You can use them on the left image while trying to center precisely on the planet. You can use the keyboard arrows to nudge your center a little bit too, but if you're running this from within a browser window, watch out that the `up` and `down` arrows might cause the page to scroll up and down!\n",
    "\n",
    "The right image will display a preview of what the zoomed, cropped, tidied image will look like when saved. Feel free to iterate as many times as you need to get it right. By default this tool will save the images out both as `.png` and `.pdf` files, which should look something like:\n",
    "\n",
    "![example-uranus-image](images/uranus-512px-2021-02-09-0312.png)"
   ]
  },
  {
   "cell_type": "markdown",
   "metadata": {},
   "source": [
    "## Customizing Outputs\n",
    "\n",
    "You may want to change some details about the appearance of your output images. You can provide any of the following options when calling `make_friendly_image` to alter its behavior:\n",
    "\n",
    "+ `size (default 256)` = the number of pixels to include along one side of the zoomed square. The default is tuned to Uranus. If you're looking at Saturn, you'll definitely want to use a much larger box, to make sure you don't miss Titan.\n",
    "+ `planet_name (default Uranus)` = the name of the planet you're working with (it will appear on the top of all of the plots). If you're looking at Saturn, change this to `'Saturn'`. \n",
    "+ `arcseconds_per_pixel (default 0.32)` = the pixel scale, or number of arcseconds per pixel, in the provided image. The default is for images taken with the imaging cameras on Artemis + Apollo at SBO, *in 2x2 binning mode*. If you aren't sure of what the pixel scale is, don't guess! You'll end up with nonsense units on the plot axes that can't be used quantitatively.\n",
    "+ `vmin (default 1)` = the value in the image that should correspond to the bottom of the colorscale (white). This is after an approximate background subtraction is applied, so values should be pretty small, regardless of sky brightness or detector bias levels.\n",
    "+ `vmin (default 1e3)` = the value in the image that should correspond to the top of the colorscale (black). \n",
    "+ `filter_pixels (default 5)` = the number of pixels for the spatial median filter that is applied to the image to reduce visual noise and eliminate single-pixel cosmic rays or hot pixels\n",
    "+ `cmap (default 'gray_r')` = the color map to apply, for how to convert from numbers to colors. The default goes from `white` at the bottom to `black` at the top; it's good if you need to print images. If you want this reversed (so bright pixels are light, and less bright pixels are dark), try `'gray'`. \n",
    "+ `suffixes (default [\"pdf\", \"png\"])` = the image formats into which you want to save images. The default makes both `.png` files good for animated and `.pdf` files good for displaying with crisp text in slides.\n",
    "+ `row (default None), col (default None)` = a pre-determined center you can provide, if you want to skip the interactive step of clicking on individual centers. If you want to get a little advanced, you could think about writing a script where you store centers you're happy with and can make new images with some properties slightly changed, making use of this human-out-of-the-loop option."
   ]
  },
  {
   "cell_type": "code",
   "execution_count": null,
   "metadata": {},
   "outputs": [],
   "source": [
    "i = make_friendly_image('uranus-test-image.fit', \n",
    "                        size=256,\n",
    "                        planet_name=\"Uranus\",\n",
    "                        arcseconds_per_pixel=0.32,\n",
    "                        vmin=1,\n",
    "                        vmax=1e3,\n",
    "                        filter_pixels=5,\n",
    "                        cmap=\"gray_r\",\n",
    "                        suffixes=[\"pdf\", \"png\"],\n",
    "                        row=1172,\n",
    "                        col=1478,)"
   ]
  }
 ],
 "metadata": {
  "kernelspec": {
   "display_name": "Python 3 (ipykernel)",
   "language": "python",
   "name": "python3"
  },
  "language_info": {
   "codemirror_mode": {
    "name": "ipython",
    "version": 3
   },
   "file_extension": ".py",
   "mimetype": "text/x-python",
   "name": "python",
   "nbconvert_exporter": "python",
   "pygments_lexer": "ipython3",
   "version": "3.9.5"
  }
 },
 "nbformat": 4,
 "nbformat_minor": 4
}
